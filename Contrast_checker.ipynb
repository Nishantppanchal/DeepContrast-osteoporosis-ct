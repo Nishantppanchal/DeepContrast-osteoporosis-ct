{
 "cells": [
  {
   "cell_type": "code",
   "execution_count": 1,
   "id": "baa76f5e-bfd5-45a8-9496-c04e0d92473a",
   "metadata": {},
   "outputs": [],
   "source": [
    "import sqlite3\n",
    "import pandas as pd"
   ]
  },
  {
   "cell_type": "code",
   "execution_count": 2,
   "id": "22176b3c-e50e-439f-b97a-c4e5276e479b",
   "metadata": {},
   "outputs": [],
   "source": [
    "connection = sqlite3.connect(r\"/nfs/MBSI/Osteoporosis/Head-CT/DB_filtered/BoneDensity_2023-03-01_10 - deid.db\")\n",
    "\n",
    "BMD_tbl_Image_df = pd.read_sql_query(\"SELECT * FROM BMD_tbl_Image\", connection)\n",
    "BMD_tbl_Subject_df = pd.read_sql_query(\"SELECT * FROM BMD_tbl_Subject\", connection)\n",
    "BMD_tbl_Test_df = pd.read_sql_query(\"SELECT * FROM BMD_tbl_Test\", connection)"
   ]
  },
  {
   "cell_type": "code",
   "execution_count": 3,
   "id": "351cd0c1-ef50-433b-8ceb-f12f3db08b6b",
   "metadata": {},
   "outputs": [
    {
     "data": {
      "text/html": [
       "<div>\n",
       "<style scoped>\n",
       "    .dataframe tbody tr th:only-of-type {\n",
       "        vertical-align: middle;\n",
       "    }\n",
       "\n",
       "    .dataframe tbody tr th {\n",
       "        vertical-align: top;\n",
       "    }\n",
       "\n",
       "    .dataframe thead th {\n",
       "        text-align: right;\n",
       "    }\n",
       "</style>\n",
       "<table border=\"1\" class=\"dataframe\">\n",
       "  <thead>\n",
       "    <tr style=\"text-align: right;\">\n",
       "      <th></th>\n",
       "      <th>SubjectID</th>\n",
       "      <th>StudyInstanceUID</th>\n",
       "      <th>StudyDescription</th>\n",
       "      <th>StudyID</th>\n",
       "      <th>StudyDate</th>\n",
       "      <th>StudyTime</th>\n",
       "      <th>AccessionNumber</th>\n",
       "      <th>InstitutionAddress</th>\n",
       "      <th>PatientBirthDate</th>\n",
       "      <th>PatientSex</th>\n",
       "      <th>...</th>\n",
       "      <th>DeviceSerialNumber</th>\n",
       "      <th>MagneticFieldStrength</th>\n",
       "      <th>InstitutionName</th>\n",
       "      <th>StationName</th>\n",
       "      <th>InstitutionalDepartmentName</th>\n",
       "      <th>OperatorsName</th>\n",
       "      <th>RequestedProcedureDescription</th>\n",
       "      <th>ContrastBolusAgent</th>\n",
       "      <th>Status</th>\n",
       "      <th>ArchiveName</th>\n",
       "    </tr>\n",
       "  </thead>\n",
       "  <tbody>\n",
       "    <tr>\n",
       "      <th>2012</th>\n",
       "      <td>002030</td>\n",
       "      <td>0.2.42.3.4.3.101.11.83.4.7125253.5749176</td>\n",
       "      <td></td>\n",
       "      <td></td>\n",
       "      <td>00010101</td>\n",
       "      <td>000000.00</td>\n",
       "      <td>002030</td>\n",
       "      <td></td>\n",
       "      <td>19320701</td>\n",
       "      <td>M</td>\n",
       "      <td>...</td>\n",
       "      <td></td>\n",
       "      <td></td>\n",
       "      <td>Anonymized</td>\n",
       "      <td>Anonymized</td>\n",
       "      <td></td>\n",
       "      <td>Anonymized</td>\n",
       "      <td></td>\n",
       "      <td></td>\n",
       "      <td>0</td>\n",
       "      <td>Y:\\Osteoporosis\\Head-CT\\DICOM_filtered\\002030</td>\n",
       "    </tr>\n",
       "  </tbody>\n",
       "</table>\n",
       "<p>1 rows × 30 columns</p>\n",
       "</div>"
      ],
      "text/plain": [
       "     SubjectID                          StudyInstanceUID StudyDescription  \\\n",
       "2012    002030  0.2.42.3.4.3.101.11.83.4.7125253.5749176                    \n",
       "\n",
       "     StudyID StudyDate  StudyTime AccessionNumber InstitutionAddress  \\\n",
       "2012          00010101  000000.00          002030                      \n",
       "\n",
       "     PatientBirthDate PatientSex  ... DeviceSerialNumber  \\\n",
       "2012         19320701          M  ...                      \n",
       "\n",
       "     MagneticFieldStrength InstitutionName StationName  \\\n",
       "2012                            Anonymized  Anonymized   \n",
       "\n",
       "     InstitutionalDepartmentName OperatorsName RequestedProcedureDescription  \\\n",
       "2012                                Anonymized                                 \n",
       "\n",
       "     ContrastBolusAgent Status                                    ArchiveName  \n",
       "2012                         0  Y:\\Osteoporosis\\Head-CT\\DICOM_filtered\\002030  \n",
       "\n",
       "[1 rows x 30 columns]"
      ]
     },
     "execution_count": 3,
     "metadata": {},
     "output_type": "execute_result"
    }
   ],
   "source": [
    "BMD_tbl_Subject_df.sample(1, random_state=123)"
   ]
  },
  {
   "cell_type": "code",
   "execution_count": 4,
   "id": "ac54763c-67f4-409b-ae8a-197268e3f495",
   "metadata": {},
   "outputs": [
    {
     "data": {
      "text/html": [
       "<div>\n",
       "<style scoped>\n",
       "    .dataframe tbody tr th:only-of-type {\n",
       "        vertical-align: middle;\n",
       "    }\n",
       "\n",
       "    .dataframe tbody tr th {\n",
       "        vertical-align: top;\n",
       "    }\n",
       "\n",
       "    .dataframe thead th {\n",
       "        text-align: right;\n",
       "    }\n",
       "</style>\n",
       "<table border=\"1\" class=\"dataframe\">\n",
       "  <thead>\n",
       "    <tr style=\"text-align: right;\">\n",
       "      <th></th>\n",
       "      <th>StudyInstanceUID</th>\n",
       "      <th>SeriesInstanceUID</th>\n",
       "      <th>SeriesDescription</th>\n",
       "      <th>SeriesNumber</th>\n",
       "      <th>SeriesDate</th>\n",
       "      <th>AcquisitionDate</th>\n",
       "      <th>ContentDate</th>\n",
       "      <th>SeriesTime</th>\n",
       "      <th>AcquisitionTime</th>\n",
       "      <th>ContentTime</th>\n",
       "      <th>...</th>\n",
       "      <th>InstanceNumber_OptimalTI</th>\n",
       "      <th>Status</th>\n",
       "      <th>IsTestset</th>\n",
       "      <th>DICOMVolumeFolder</th>\n",
       "      <th>NIfTIVolumeFolder</th>\n",
       "      <th>LabelVolumeFolder</th>\n",
       "      <th>SliceIndex</th>\n",
       "      <th>DataFolder</th>\n",
       "      <th>DataSetFolder</th>\n",
       "      <th>DataSetFolderG</th>\n",
       "    </tr>\n",
       "  </thead>\n",
       "  <tbody>\n",
       "  </tbody>\n",
       "</table>\n",
       "<p>0 rows × 46 columns</p>\n",
       "</div>"
      ],
      "text/plain": [
       "Empty DataFrame\n",
       "Columns: [StudyInstanceUID, SeriesInstanceUID, SeriesDescription, SeriesNumber, SeriesDate, AcquisitionDate, ContentDate, SeriesTime, AcquisitionTime, ContentTime, Modality, ContrastBolusAgent, AcquisitionMatrix, InPlanePhaseEncodingDirection, FlipAngle, VariableFlipAngleFlag, ProtocolName, CardiacNumberOfImages, SequenceName, ScanningSequence, SequenceVariant, ScanOptions, MRAcquisitionType, SliceThickness, RepetitionTime, EchoTime, NumberOfAverages, EchoNumbers, MagneticFieldStrength, NumberOfPhaseEncodingSteps, EchoTrainLength, PercentSampling, PercentPhaseFieldOfView, PixelBandwidth, ContrastBolusVolume, OptimalTI, InstanceNumber_OptimalTI, Status, IsTestset, DICOMVolumeFolder, NIfTIVolumeFolder, LabelVolumeFolder, SliceIndex, DataFolder, DataSetFolder, DataSetFolderG]\n",
       "Index: []\n",
       "\n",
       "[0 rows x 46 columns]"
      ]
     },
     "metadata": {},
     "output_type": "display_data"
    },
    {
     "name": "stdout",
     "output_type": "stream",
     "text": [
      "[]\n"
     ]
    }
   ],
   "source": [
    "display(BMD_tbl_Test_df[BMD_tbl_Test_df[\"StudyInstanceUID\"] == \"6.6.36.9.1.2.936.04.81.3.6408074.7693526\"])\n",
    "print(list(BMD_tbl_Test_df[BMD_tbl_Test_df[\"StudyInstanceUID\"] == \"6.6.36.9.1.2.936.04.81.3.6408074.7693526\"][\"SeriesInstanceUID\"]))"
   ]
  },
  {
   "cell_type": "code",
   "execution_count": 5,
   "id": "b0b69bd2-ffc6-4aca-92e8-86a1f7120dd5",
   "metadata": {},
   "outputs": [
    {
     "data": {
      "text/html": [
       "<div>\n",
       "<style scoped>\n",
       "    .dataframe tbody tr th:only-of-type {\n",
       "        vertical-align: middle;\n",
       "    }\n",
       "\n",
       "    .dataframe tbody tr th {\n",
       "        vertical-align: top;\n",
       "    }\n",
       "\n",
       "    .dataframe thead th {\n",
       "        text-align: right;\n",
       "    }\n",
       "</style>\n",
       "<table border=\"1\" class=\"dataframe\">\n",
       "  <thead>\n",
       "    <tr style=\"text-align: right;\">\n",
       "      <th></th>\n",
       "      <th>StudyInstanceUID</th>\n",
       "      <th>SeriesInstanceUID</th>\n",
       "      <th>SOPInstanceUID</th>\n",
       "      <th>InstanceNumber</th>\n",
       "      <th>TriggerTime</th>\n",
       "      <th>SpecificCharacterSet</th>\n",
       "      <th>ImageType</th>\n",
       "      <th>InstanceCreationDate</th>\n",
       "      <th>InstanceCreationTime</th>\n",
       "      <th>SOPClassUID</th>\n",
       "      <th>...</th>\n",
       "      <th>HighBit</th>\n",
       "      <th>PixelRepresentation</th>\n",
       "      <th>SmallestImagePixelValue</th>\n",
       "      <th>LargestImagePixelValue</th>\n",
       "      <th>WindowCenter</th>\n",
       "      <th>WindowWidth</th>\n",
       "      <th>WindowCenterWidthExplanation</th>\n",
       "      <th>Selected</th>\n",
       "      <th>FileName</th>\n",
       "      <th>ArchiveFileName</th>\n",
       "    </tr>\n",
       "  </thead>\n",
       "  <tbody>\n",
       "  </tbody>\n",
       "</table>\n",
       "<p>0 rows × 39 columns</p>\n",
       "</div>"
      ],
      "text/plain": [
       "Empty DataFrame\n",
       "Columns: [StudyInstanceUID, SeriesInstanceUID, SOPInstanceUID, InstanceNumber, TriggerTime, SpecificCharacterSet, ImageType, InstanceCreationDate, InstanceCreationTime, SOPClassUID, NominalInterval, AcquisitionMatrix, InPlanePhaseEncodingDirection, FlipAngle, VariableFlipAngleFlag, AcquisitionNumber, AnatomicalOrientationType, ImagePositionPatient, ImageOrientationPatient, Direction, FrameOfReferenceUID, SliceLocation, SamplesPerPixel, PhotometricInterpretation, Rows, Columns, PixelSpacing, BitsAllocated, BitsStored, HighBit, PixelRepresentation, SmallestImagePixelValue, LargestImagePixelValue, WindowCenter, WindowWidth, WindowCenterWidthExplanation, Selected, FileName, ArchiveFileName]\n",
       "Index: []\n",
       "\n",
       "[0 rows x 39 columns]"
      ]
     },
     "metadata": {},
     "output_type": "display_data"
    }
   ],
   "source": [
    "display(BMD_tbl_Image_df[BMD_tbl_Image_df[\"SeriesInstanceUID\"] == \"0.4.140.631377.3.59.029197734.69890.4068989577.34.9.8\"])\n",
    "# for seriesInstanceUID in list(BMD_tbl_Test_df[BMD_tbl_Test_df[\"StudyInstanceUID\"] == \"6.6.36.9.1.2.936.04.81.3.6408074.7693526\"][\"SeriesInstanceUID\"]):\n",
    "#     print(len(list(BMD_tbl_Image_df[BMD_tbl_Image_df[\"SeriesInstanceUID\"] == seriesInstanceUID][\"FileName\"])))"
   ]
  },
  {
   "cell_type": "code",
   "execution_count": 28,
   "id": "9e1cdaf8-b196-4923-b664-6a5f81eedac7",
   "metadata": {},
   "outputs": [
    {
     "data": {
      "text/plain": [
       "Index(['StudyInstanceUID', 'SeriesInstanceUID', 'SeriesDescription',\n",
       "       'SeriesNumber', 'SeriesDate', 'AcquisitionDate', 'ContentDate',\n",
       "       'SeriesTime', 'AcquisitionTime', 'ContentTime', 'Modality',\n",
       "       'ContrastBolusAgent', 'AcquisitionMatrix',\n",
       "       'InPlanePhaseEncodingDirection', 'FlipAngle', 'VariableFlipAngleFlag',\n",
       "       'ProtocolName', 'CardiacNumberOfImages', 'SequenceName',\n",
       "       'ScanningSequence', 'SequenceVariant', 'ScanOptions',\n",
       "       'MRAcquisitionType', 'SliceThickness', 'RepetitionTime', 'EchoTime',\n",
       "       'NumberOfAverages', 'EchoNumbers', 'MagneticFieldStrength',\n",
       "       'NumberOfPhaseEncodingSteps', 'EchoTrainLength', 'PercentSampling',\n",
       "       'PercentPhaseFieldOfView', 'PixelBandwidth', 'ContrastBolusVolume',\n",
       "       'OptimalTI', 'InstanceNumber_OptimalTI', 'Status', 'IsTestset',\n",
       "       'DICOMVolumeFolder', 'NIfTIVolumeFolder', 'LabelVolumeFolder',\n",
       "       'SliceIndex', 'DataFolder', 'DataSetFolder', 'DataSetFolderG'],\n",
       "      dtype='object')"
      ]
     },
     "execution_count": 28,
     "metadata": {},
     "output_type": "execute_result"
    }
   ],
   "source": [
    "BMD_tbl_Test_df.columns"
   ]
  },
  {
   "cell_type": "code",
   "execution_count": null,
   "id": "aa6af71f-e557-4bf7-946f-cd171df4821c",
   "metadata": {},
   "outputs": [],
   "source": [
    "class HeadCTData:\n",
    "    def __init__(self, db_dir) -> None:\n",
    "        connection = sqlite3.connect(db_dir)\n",
    "\n",
    "        self.BMD_tbl_Image_df = pd.read_sql_query(\"SELECT * FROM BMD_tbl_Image\", connection)\n",
    "        self.BMD_tbl_Subject_df = pd.read_sql_query(\"SELECT * FROM BMD_tbl_Subject\", connection)\n",
    "        self.BMD_tbl_Test_df = pd.read_sql_query(\"SELECT * FROM BMD_tbl_Test\", connection)\n",
    "        \n",
    "    "
   ]
  }
 ],
 "metadata": {
  "kernelspec": {
   "display_name": "Python 3.8 (osteo2)",
   "language": "python",
   "name": "python3_osteo2"
  },
  "language_info": {
   "codemirror_mode": {
    "name": "ipython",
    "version": 3
   },
   "file_extension": ".py",
   "mimetype": "text/x-python",
   "name": "python",
   "nbconvert_exporter": "python",
   "pygments_lexer": "ipython3",
   "version": "3.10.8"
  }
 },
 "nbformat": 4,
 "nbformat_minor": 5
}
